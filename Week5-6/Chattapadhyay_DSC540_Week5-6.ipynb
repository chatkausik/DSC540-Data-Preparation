{
 "cells": [
  {
   "cell_type": "markdown",
   "id": "b3a9d9a7",
   "metadata": {},
   "source": [
    "# DSC 540 Week 5-6\n",
    "# Kausik Chattapadhyay\n",
    "# 01/15/2023"
   ]
  },
  {
   "cell_type": "markdown",
   "id": "15ca2bab",
   "metadata": {},
   "source": [
    "# Activity 7: Reading Tabular Data from a Web Page and Creating DataFrames"
   ]
  },
  {
   "cell_type": "markdown",
   "id": "fa334f5a",
   "metadata": {},
   "source": [
    "In this activity, you have been given a Wikipedia page where you have the GDP of all countries listed. You have been asked to create three DataFrames from the three sources mentioned in the page (https://en.wikipedia.org/wiki/List_of_countries_by_GDP_(nominal)):\n",
    "\n",
    "• Open the page in a separate Chrome/Firefox tab and use something like an Inspect Element tool to view the source HTML and understand its structure Read the page using bs4\n",
    "\n",
    "• Read the page using bs4\n",
    "\n",
    "• Find the table structure you will need to deal with (how many tables there are?)\n",
    "\n",
    "• Find the right table using bs4\n",
    "\n",
    "• Separate the source names and their corresponding data\n",
    "\n",
    "• Get the source names from the list of sources you have created\n",
    "\n",
    "• Separate the header and data from the data that you separated before for the first source only, and then create a DataFrame using that\n",
    "\n",
    "• Repeat the last task for the other two data sources"
   ]
  },
  {
   "cell_type": "code",
   "execution_count": 1,
   "id": "15042f9c",
   "metadata": {},
   "outputs": [],
   "source": [
    "# Load the necessary libraries.\n",
    "\n",
    "from bs4 import BeautifulSoup\n",
    "import requests\n",
    "import numpy as np\n",
    "import pandas as pd\n",
    "import matplotlib.pyplot as plt\n",
    "import urllib.request\n",
    "%matplotlib inline"
   ]
  },
  {
   "cell_type": "code",
   "execution_count": 2,
   "id": "c75e34e9",
   "metadata": {},
   "outputs": [],
   "source": [
    "# Reading the wikipedia website HTML using beautifulSoup library\n",
    "\n",
    "url=\"https://en.wikipedia.org/wiki/List_of_countries_by_GDP_(nominal)\"\n",
    "\n",
    "websiteData = urllib.request.urlopen(url) \n",
    "\n",
    "bfData = BeautifulSoup(websiteData) \n",
    "websiteData.close()"
   ]
  },
  {
   "cell_type": "code",
   "execution_count": 3,
   "id": "dcb24e43",
   "metadata": {},
   "outputs": [
    {
     "name": "stdout",
     "output_type": "stream",
     "text": [
      "There are 7 tables in the website HTML\n"
     ]
    }
   ],
   "source": [
    "# Reading Html table structure to find how many tables are there in the HTML\n",
    "\n",
    "no_of_tables = bfData.find_all(\"table\") \n",
    "print(\"There are \" + str(len(no_of_tables)) + \" tables in the website HTML\")\n"
   ]
  },
  {
   "cell_type": "code",
   "execution_count": 4,
   "id": "1dc7a915",
   "metadata": {},
   "outputs": [
    {
     "name": "stdout",
     "output_type": "stream",
     "text": [
      "<class 'bs4.element.Tag'>\n"
     ]
    }
   ],
   "source": [
    "# Find the right table using bs4\n",
    "\n",
    "# finding table with class wikitable inside HTML, this table holds the data we, are looking for \n",
    "tabledata = bfData.find(\"table\", {\"class\": \"wikitable\"}) \n",
    "print(type(tabledata))\n"
   ]
  },
  {
   "cell_type": "code",
   "execution_count": 5,
   "id": "82b9f429",
   "metadata": {
    "scrolled": true
   },
   "outputs": [
    {
     "name": "stdout",
     "output_type": "stream",
     "text": [
      "['IMF', 'World Bank', 'United Nations']\n",
      "Header\n",
      "['Country/Territory', 'UN Region', 'Estimate', 'Year', 'Estimate', 'Year', 'Estimate', 'Year']\n"
     ]
    }
   ],
   "source": [
    "# Separate the source names and their corresponding data\n",
    "\n",
    "# finding all rows inside table body non recusively as we are interested in, getting only the top level rows\n",
    "\n",
    "scRow = tabledata.tbody.findAll('tr', recursive=False)[0]\n",
    "\n",
    "# finding all table cells inside the table rows non recursively to get only the, heder cells (each cell represents a source) \n",
    "scCell = [td for td in scRow.findAll('th')]\n",
    "\n",
    "# iterating through the anchor tags in each cell to get the names and header\n",
    "\n",
    "datasources=[]\n",
    "header=[]\n",
    "for index, item in enumerate(scCell):\n",
    "    if (index == 0):\n",
    "        head = scCell[index].getText().replace('\\n',' ').strip()\n",
    "        header.append(head)\n",
    "    if (index == 1):\n",
    "        head = scCell[index].findAll('a')[0].getText().replace('\\n',' ').strip()\n",
    "        header.append(head)\n",
    "        \n",
    "    if (index > 1 and index < 5):\n",
    "        val = scCell[index].findAll('a', title=True)[0].getText().replace('\\n',' ').strip()\n",
    "        datasources.append(val)\n",
    "        \n",
    "data = tabledata.tbody.findAll('tr', recursive=False)\n",
    "\n",
    "for index, item in enumerate(data):\n",
    "    if index == 1:\n",
    "        head = data[index].getText().replace('\\n',' ').strip()\n",
    "        for name in head.split():\n",
    "            header.append(name)\n",
    "\n",
    "print(datasources) \n",
    "\n",
    "print(\"Header\")\n",
    "print(header) \n",
    "        "
   ]
  },
  {
   "cell_type": "code",
   "execution_count": 6,
   "id": "eb55654e",
   "metadata": {},
   "outputs": [
    {
     "name": "stdout",
     "output_type": "stream",
     "text": [
      "['United States', 'Americas', '25,035,164', '2022', '22,996,100', '2021', '20,893,746', '2020']\n"
     ]
    }
   ],
   "source": [
    "# Data loaded in a list\n",
    "data = tabledata.tbody.findAll('tr', recursive=False)\n",
    "\n",
    "rowdata = []\n",
    "for key, val in enumerate(data):\n",
    "    if key > 1:\n",
    "        data_country = [td.getText().replace('\\n',' ').strip() for td in val.findAll('td')]\n",
    "        rowdata.append(data_country)\n",
    "\n",
    "print(rowdata[1])\n"
   ]
  },
  {
   "cell_type": "markdown",
   "id": "7cadeae9",
   "metadata": {},
   "source": [
    "Creating a Dataframe"
   ]
  },
  {
   "cell_type": "code",
   "execution_count": 7,
   "id": "92fa181f",
   "metadata": {},
   "outputs": [
    {
     "data": {
      "text/html": [
       "<div>\n",
       "<style scoped>\n",
       "    .dataframe tbody tr th:only-of-type {\n",
       "        vertical-align: middle;\n",
       "    }\n",
       "\n",
       "    .dataframe tbody tr th {\n",
       "        vertical-align: top;\n",
       "    }\n",
       "\n",
       "    .dataframe thead th {\n",
       "        text-align: right;\n",
       "    }\n",
       "</style>\n",
       "<table border=\"1\" class=\"dataframe\">\n",
       "  <thead>\n",
       "    <tr style=\"text-align: right;\">\n",
       "      <th></th>\n",
       "      <th>Country/Territory</th>\n",
       "      <th>UN Region</th>\n",
       "      <th>IMF_Estimate</th>\n",
       "      <th>IMF_Year</th>\n",
       "      <th>World Bank_Estimate</th>\n",
       "      <th>World Bank_Year</th>\n",
       "      <th>United Nations_Estimate</th>\n",
       "      <th>United Nations_Year</th>\n",
       "    </tr>\n",
       "  </thead>\n",
       "  <tbody>\n",
       "    <tr>\n",
       "      <th>0</th>\n",
       "      <td>World</td>\n",
       "      <td>—</td>\n",
       "      <td>101,560,901</td>\n",
       "      <td>2022</td>\n",
       "      <td>96,100,091</td>\n",
       "      <td>2021</td>\n",
       "      <td>85,328,323</td>\n",
       "      <td>2020</td>\n",
       "    </tr>\n",
       "    <tr>\n",
       "      <th>1</th>\n",
       "      <td>United States</td>\n",
       "      <td>Americas</td>\n",
       "      <td>25,035,164</td>\n",
       "      <td>2022</td>\n",
       "      <td>22,996,100</td>\n",
       "      <td>2021</td>\n",
       "      <td>20,893,746</td>\n",
       "      <td>2020</td>\n",
       "    </tr>\n",
       "    <tr>\n",
       "      <th>2</th>\n",
       "      <td>China</td>\n",
       "      <td>Asia</td>\n",
       "      <td>18,321,197</td>\n",
       "      <td>[n 1]2022</td>\n",
       "      <td>17,734,063</td>\n",
       "      <td>[n 3]2021</td>\n",
       "      <td>14,722,801</td>\n",
       "      <td>[n 1]2020</td>\n",
       "    </tr>\n",
       "    <tr>\n",
       "      <th>3</th>\n",
       "      <td>Japan</td>\n",
       "      <td>Asia</td>\n",
       "      <td>4,300,621</td>\n",
       "      <td>2022</td>\n",
       "      <td>4,937,422</td>\n",
       "      <td>2021</td>\n",
       "      <td>5,057,759</td>\n",
       "      <td>2020</td>\n",
       "    </tr>\n",
       "    <tr>\n",
       "      <th>4</th>\n",
       "      <td>Germany</td>\n",
       "      <td>Europe</td>\n",
       "      <td>4,031,149</td>\n",
       "      <td>2022</td>\n",
       "      <td>4,223,116</td>\n",
       "      <td>2021</td>\n",
       "      <td>3,846,414</td>\n",
       "      <td>2020</td>\n",
       "    </tr>\n",
       "    <tr>\n",
       "      <th>5</th>\n",
       "      <td>India</td>\n",
       "      <td>Asia</td>\n",
       "      <td>3,468,566</td>\n",
       "      <td>2022</td>\n",
       "      <td>3,173,398</td>\n",
       "      <td>2021</td>\n",
       "      <td>2,664,749</td>\n",
       "      <td>2020</td>\n",
       "    </tr>\n",
       "    <tr>\n",
       "      <th>6</th>\n",
       "      <td>United Kingdom</td>\n",
       "      <td>Europe</td>\n",
       "      <td>3,198,470</td>\n",
       "      <td>2022</td>\n",
       "      <td>3,186,860</td>\n",
       "      <td>2021</td>\n",
       "      <td>2,764,198</td>\n",
       "      <td>2020</td>\n",
       "    </tr>\n",
       "    <tr>\n",
       "      <th>7</th>\n",
       "      <td>France</td>\n",
       "      <td>Europe</td>\n",
       "      <td>2,778,090</td>\n",
       "      <td>2022</td>\n",
       "      <td>2,937,473</td>\n",
       "      <td>2021</td>\n",
       "      <td>2,630,318</td>\n",
       "      <td>2020</td>\n",
       "    </tr>\n",
       "    <tr>\n",
       "      <th>8</th>\n",
       "      <td>Canada</td>\n",
       "      <td>Americas</td>\n",
       "      <td>2,200,352</td>\n",
       "      <td>2022</td>\n",
       "      <td>1,990,762</td>\n",
       "      <td>2021</td>\n",
       "      <td>1,644,037</td>\n",
       "      <td>2020</td>\n",
       "    </tr>\n",
       "    <tr>\n",
       "      <th>9</th>\n",
       "      <td>Russia</td>\n",
       "      <td>Europe</td>\n",
       "      <td>2,133,092</td>\n",
       "      <td>2022</td>\n",
       "      <td>1,775,800</td>\n",
       "      <td>2021</td>\n",
       "      <td>1,483,498</td>\n",
       "      <td>2020</td>\n",
       "    </tr>\n",
       "  </tbody>\n",
       "</table>\n",
       "</div>"
      ],
      "text/plain": [
       "  Country/Territory UN Region IMF_Estimate   IMF_Year World Bank_Estimate  \\\n",
       "0             World         —  101,560,901       2022          96,100,091   \n",
       "1     United States  Americas   25,035,164       2022          22,996,100   \n",
       "2             China      Asia   18,321,197  [n 1]2022          17,734,063   \n",
       "3             Japan      Asia    4,300,621       2022           4,937,422   \n",
       "4           Germany    Europe    4,031,149       2022           4,223,116   \n",
       "5             India      Asia    3,468,566       2022           3,173,398   \n",
       "6    United Kingdom    Europe    3,198,470       2022           3,186,860   \n",
       "7            France    Europe    2,778,090       2022           2,937,473   \n",
       "8            Canada  Americas    2,200,352       2022           1,990,762   \n",
       "9            Russia    Europe    2,133,092       2022           1,775,800   \n",
       "\n",
       "  World Bank_Year United Nations_Estimate United Nations_Year  \n",
       "0            2021              85,328,323                2020  \n",
       "1            2021              20,893,746                2020  \n",
       "2       [n 3]2021              14,722,801           [n 1]2020  \n",
       "3            2021               5,057,759                2020  \n",
       "4            2021               3,846,414                2020  \n",
       "5            2021               2,664,749                2020  \n",
       "6            2021               2,764,198                2020  \n",
       "7            2021               2,630,318                2020  \n",
       "8            2021               1,644,037                2020  \n",
       "9            2021               1,483,498                2020  "
      ]
     },
     "execution_count": 7,
     "metadata": {},
     "output_type": "execute_result"
    }
   ],
   "source": [
    "header=['Country/Territory', 'UN Region', 'IMF_Estimate', 'IMF_Year', 'World Bank_Estimate', 'World Bank_Year', 'United Nations_Estimate', 'United Nations_Year']\n",
    "df = pd.DataFrame(rowdata, columns=header)\n",
    "df.head(10)"
   ]
  },
  {
   "cell_type": "markdown",
   "id": "18186f77",
   "metadata": {},
   "source": [
    "**IMF (GDP Estimate in US$million):**\n"
   ]
  },
  {
   "cell_type": "code",
   "execution_count": 20,
   "id": "5051ec9f",
   "metadata": {
    "scrolled": true
   },
   "outputs": [
    {
     "data": {
      "text/html": [
       "<div>\n",
       "<style scoped>\n",
       "    .dataframe tbody tr th:only-of-type {\n",
       "        vertical-align: middle;\n",
       "    }\n",
       "\n",
       "    .dataframe tbody tr th {\n",
       "        vertical-align: top;\n",
       "    }\n",
       "\n",
       "    .dataframe thead th {\n",
       "        text-align: right;\n",
       "    }\n",
       "</style>\n",
       "<table border=\"1\" class=\"dataframe\">\n",
       "  <thead>\n",
       "    <tr style=\"text-align: right;\">\n",
       "      <th></th>\n",
       "      <th>Country/Territory</th>\n",
       "      <th>UN Region</th>\n",
       "      <th>IMF_Estimate</th>\n",
       "      <th>IMF_Year</th>\n",
       "    </tr>\n",
       "  </thead>\n",
       "  <tbody>\n",
       "    <tr>\n",
       "      <th>0</th>\n",
       "      <td>World</td>\n",
       "      <td>—</td>\n",
       "      <td>101,560,901</td>\n",
       "      <td>2022</td>\n",
       "    </tr>\n",
       "    <tr>\n",
       "      <th>1</th>\n",
       "      <td>United States</td>\n",
       "      <td>Americas</td>\n",
       "      <td>25,035,164</td>\n",
       "      <td>2022</td>\n",
       "    </tr>\n",
       "    <tr>\n",
       "      <th>2</th>\n",
       "      <td>China</td>\n",
       "      <td>Asia</td>\n",
       "      <td>18,321,197</td>\n",
       "      <td>[n 1]2022</td>\n",
       "    </tr>\n",
       "    <tr>\n",
       "      <th>3</th>\n",
       "      <td>Japan</td>\n",
       "      <td>Asia</td>\n",
       "      <td>4,300,621</td>\n",
       "      <td>2022</td>\n",
       "    </tr>\n",
       "    <tr>\n",
       "      <th>4</th>\n",
       "      <td>Germany</td>\n",
       "      <td>Europe</td>\n",
       "      <td>4,031,149</td>\n",
       "      <td>2022</td>\n",
       "    </tr>\n",
       "    <tr>\n",
       "      <th>5</th>\n",
       "      <td>India</td>\n",
       "      <td>Asia</td>\n",
       "      <td>3,468,566</td>\n",
       "      <td>2022</td>\n",
       "    </tr>\n",
       "    <tr>\n",
       "      <th>6</th>\n",
       "      <td>United Kingdom</td>\n",
       "      <td>Europe</td>\n",
       "      <td>3,198,470</td>\n",
       "      <td>2022</td>\n",
       "    </tr>\n",
       "    <tr>\n",
       "      <th>7</th>\n",
       "      <td>France</td>\n",
       "      <td>Europe</td>\n",
       "      <td>2,778,090</td>\n",
       "      <td>2022</td>\n",
       "    </tr>\n",
       "    <tr>\n",
       "      <th>8</th>\n",
       "      <td>Canada</td>\n",
       "      <td>Americas</td>\n",
       "      <td>2,200,352</td>\n",
       "      <td>2022</td>\n",
       "    </tr>\n",
       "    <tr>\n",
       "      <th>9</th>\n",
       "      <td>Russia</td>\n",
       "      <td>Europe</td>\n",
       "      <td>2,133,092</td>\n",
       "      <td>2022</td>\n",
       "    </tr>\n",
       "  </tbody>\n",
       "</table>\n",
       "</div>"
      ],
      "text/plain": [
       "  Country/Territory UN Region IMF_Estimate   IMF_Year\n",
       "0             World         —  101,560,901       2022\n",
       "1     United States  Americas   25,035,164       2022\n",
       "2             China      Asia   18,321,197  [n 1]2022\n",
       "3             Japan      Asia    4,300,621       2022\n",
       "4           Germany    Europe    4,031,149       2022\n",
       "5             India      Asia    3,468,566       2022\n",
       "6    United Kingdom    Europe    3,198,470       2022\n",
       "7            France    Europe    2,778,090       2022\n",
       "8            Canada  Americas    2,200,352       2022\n",
       "9            Russia    Europe    2,133,092       2022"
      ]
     },
     "execution_count": 20,
     "metadata": {},
     "output_type": "execute_result"
    }
   ],
   "source": [
    "df_imf = df.iloc[:,0:4]\n",
    "df_imf.head(10)"
   ]
  },
  {
   "cell_type": "markdown",
   "id": "67997317",
   "metadata": {},
   "source": [
    "**World Bank (GDP Estimate in US$million):**"
   ]
  },
  {
   "cell_type": "code",
   "execution_count": 21,
   "id": "a3e85c30",
   "metadata": {},
   "outputs": [
    {
     "data": {
      "text/html": [
       "<div>\n",
       "<style scoped>\n",
       "    .dataframe tbody tr th:only-of-type {\n",
       "        vertical-align: middle;\n",
       "    }\n",
       "\n",
       "    .dataframe tbody tr th {\n",
       "        vertical-align: top;\n",
       "    }\n",
       "\n",
       "    .dataframe thead th {\n",
       "        text-align: right;\n",
       "    }\n",
       "</style>\n",
       "<table border=\"1\" class=\"dataframe\">\n",
       "  <thead>\n",
       "    <tr style=\"text-align: right;\">\n",
       "      <th></th>\n",
       "      <th>Country/Territory</th>\n",
       "      <th>UN Region</th>\n",
       "      <th>World Bank_Estimate</th>\n",
       "      <th>World Bank_Year</th>\n",
       "    </tr>\n",
       "  </thead>\n",
       "  <tbody>\n",
       "    <tr>\n",
       "      <th>0</th>\n",
       "      <td>World</td>\n",
       "      <td>—</td>\n",
       "      <td>96,100,091</td>\n",
       "      <td>2021</td>\n",
       "    </tr>\n",
       "    <tr>\n",
       "      <th>1</th>\n",
       "      <td>United States</td>\n",
       "      <td>Americas</td>\n",
       "      <td>22,996,100</td>\n",
       "      <td>2021</td>\n",
       "    </tr>\n",
       "    <tr>\n",
       "      <th>2</th>\n",
       "      <td>China</td>\n",
       "      <td>Asia</td>\n",
       "      <td>17,734,063</td>\n",
       "      <td>[n 3]2021</td>\n",
       "    </tr>\n",
       "    <tr>\n",
       "      <th>3</th>\n",
       "      <td>Japan</td>\n",
       "      <td>Asia</td>\n",
       "      <td>4,937,422</td>\n",
       "      <td>2021</td>\n",
       "    </tr>\n",
       "    <tr>\n",
       "      <th>4</th>\n",
       "      <td>Germany</td>\n",
       "      <td>Europe</td>\n",
       "      <td>4,223,116</td>\n",
       "      <td>2021</td>\n",
       "    </tr>\n",
       "    <tr>\n",
       "      <th>5</th>\n",
       "      <td>India</td>\n",
       "      <td>Asia</td>\n",
       "      <td>3,173,398</td>\n",
       "      <td>2021</td>\n",
       "    </tr>\n",
       "    <tr>\n",
       "      <th>6</th>\n",
       "      <td>United Kingdom</td>\n",
       "      <td>Europe</td>\n",
       "      <td>3,186,860</td>\n",
       "      <td>2021</td>\n",
       "    </tr>\n",
       "    <tr>\n",
       "      <th>7</th>\n",
       "      <td>France</td>\n",
       "      <td>Europe</td>\n",
       "      <td>2,937,473</td>\n",
       "      <td>2021</td>\n",
       "    </tr>\n",
       "    <tr>\n",
       "      <th>8</th>\n",
       "      <td>Canada</td>\n",
       "      <td>Americas</td>\n",
       "      <td>1,990,762</td>\n",
       "      <td>2021</td>\n",
       "    </tr>\n",
       "    <tr>\n",
       "      <th>9</th>\n",
       "      <td>Russia</td>\n",
       "      <td>Europe</td>\n",
       "      <td>1,775,800</td>\n",
       "      <td>2021</td>\n",
       "    </tr>\n",
       "  </tbody>\n",
       "</table>\n",
       "</div>"
      ],
      "text/plain": [
       "  Country/Territory UN Region World Bank_Estimate World Bank_Year\n",
       "0             World         —          96,100,091            2021\n",
       "1     United States  Americas          22,996,100            2021\n",
       "2             China      Asia          17,734,063       [n 3]2021\n",
       "3             Japan      Asia           4,937,422            2021\n",
       "4           Germany    Europe           4,223,116            2021\n",
       "5             India      Asia           3,173,398            2021\n",
       "6    United Kingdom    Europe           3,186,860            2021\n",
       "7            France    Europe           2,937,473            2021\n",
       "8            Canada  Americas           1,990,762            2021\n",
       "9            Russia    Europe           1,775,800            2021"
      ]
     },
     "execution_count": 21,
     "metadata": {},
     "output_type": "execute_result"
    }
   ],
   "source": [
    "df_world_bank = df[['Country/Territory','UN Region','World Bank_Estimate','World Bank_Year']]\n",
    "df_world_bank.head(10)"
   ]
  },
  {
   "cell_type": "markdown",
   "id": "537ddd3b",
   "metadata": {},
   "source": [
    "**United Nations (GDP Estimate in US$million):**"
   ]
  },
  {
   "cell_type": "code",
   "execution_count": 22,
   "id": "563a378e",
   "metadata": {},
   "outputs": [
    {
     "data": {
      "text/html": [
       "<div>\n",
       "<style scoped>\n",
       "    .dataframe tbody tr th:only-of-type {\n",
       "        vertical-align: middle;\n",
       "    }\n",
       "\n",
       "    .dataframe tbody tr th {\n",
       "        vertical-align: top;\n",
       "    }\n",
       "\n",
       "    .dataframe thead th {\n",
       "        text-align: right;\n",
       "    }\n",
       "</style>\n",
       "<table border=\"1\" class=\"dataframe\">\n",
       "  <thead>\n",
       "    <tr style=\"text-align: right;\">\n",
       "      <th></th>\n",
       "      <th>Country/Territory</th>\n",
       "      <th>UN Region</th>\n",
       "      <th>United Nations_Estimate</th>\n",
       "      <th>United Nations_Year</th>\n",
       "    </tr>\n",
       "  </thead>\n",
       "  <tbody>\n",
       "    <tr>\n",
       "      <th>0</th>\n",
       "      <td>World</td>\n",
       "      <td>—</td>\n",
       "      <td>85,328,323</td>\n",
       "      <td>2020</td>\n",
       "    </tr>\n",
       "    <tr>\n",
       "      <th>1</th>\n",
       "      <td>United States</td>\n",
       "      <td>Americas</td>\n",
       "      <td>20,893,746</td>\n",
       "      <td>2020</td>\n",
       "    </tr>\n",
       "    <tr>\n",
       "      <th>2</th>\n",
       "      <td>China</td>\n",
       "      <td>Asia</td>\n",
       "      <td>14,722,801</td>\n",
       "      <td>[n 1]2020</td>\n",
       "    </tr>\n",
       "    <tr>\n",
       "      <th>3</th>\n",
       "      <td>Japan</td>\n",
       "      <td>Asia</td>\n",
       "      <td>5,057,759</td>\n",
       "      <td>2020</td>\n",
       "    </tr>\n",
       "    <tr>\n",
       "      <th>4</th>\n",
       "      <td>Germany</td>\n",
       "      <td>Europe</td>\n",
       "      <td>3,846,414</td>\n",
       "      <td>2020</td>\n",
       "    </tr>\n",
       "    <tr>\n",
       "      <th>5</th>\n",
       "      <td>India</td>\n",
       "      <td>Asia</td>\n",
       "      <td>2,664,749</td>\n",
       "      <td>2020</td>\n",
       "    </tr>\n",
       "    <tr>\n",
       "      <th>6</th>\n",
       "      <td>United Kingdom</td>\n",
       "      <td>Europe</td>\n",
       "      <td>2,764,198</td>\n",
       "      <td>2020</td>\n",
       "    </tr>\n",
       "    <tr>\n",
       "      <th>7</th>\n",
       "      <td>France</td>\n",
       "      <td>Europe</td>\n",
       "      <td>2,630,318</td>\n",
       "      <td>2020</td>\n",
       "    </tr>\n",
       "    <tr>\n",
       "      <th>8</th>\n",
       "      <td>Canada</td>\n",
       "      <td>Americas</td>\n",
       "      <td>1,644,037</td>\n",
       "      <td>2020</td>\n",
       "    </tr>\n",
       "    <tr>\n",
       "      <th>9</th>\n",
       "      <td>Russia</td>\n",
       "      <td>Europe</td>\n",
       "      <td>1,483,498</td>\n",
       "      <td>2020</td>\n",
       "    </tr>\n",
       "  </tbody>\n",
       "</table>\n",
       "</div>"
      ],
      "text/plain": [
       "  Country/Territory UN Region United Nations_Estimate United Nations_Year\n",
       "0             World         —              85,328,323                2020\n",
       "1     United States  Americas              20,893,746                2020\n",
       "2             China      Asia              14,722,801           [n 1]2020\n",
       "3             Japan      Asia               5,057,759                2020\n",
       "4           Germany    Europe               3,846,414                2020\n",
       "5             India      Asia               2,664,749                2020\n",
       "6    United Kingdom    Europe               2,764,198                2020\n",
       "7            France    Europe               2,630,318                2020\n",
       "8            Canada  Americas               1,644,037                2020\n",
       "9            Russia    Europe               1,483,498                2020"
      ]
     },
     "execution_count": 22,
     "metadata": {},
     "output_type": "execute_result"
    }
   ],
   "source": [
    "df_UN = df[['Country/Territory','UN Region','United Nations_Estimate','United Nations_Year']]\n",
    "df_UN.head(10)"
   ]
  },
  {
   "cell_type": "markdown",
   "id": "c8432e1d",
   "metadata": {},
   "source": [
    "# Activity 8: Handling Outliers and Missing Data"
   ]
  },
  {
   "cell_type": "markdown",
   "id": "02517b54",
   "metadata": {},
   "source": [
    "• Read the visit_data.csv file.\n",
    "\n",
    "• Check for duplicates.\n",
    "\n",
    "• Check if any essential column contains NaN.\n",
    "\n",
    "• Get rid of the outliers.\n",
    "\n",
    "• Report the size difference.\n",
    "\n",
    "• Create a box plot to check for outliers.\n",
    "\n",
    "• Get rid of any outliers."
   ]
  },
  {
   "cell_type": "code",
   "execution_count": 11,
   "id": "63b5699f",
   "metadata": {},
   "outputs": [],
   "source": [
    "# load libraries\n",
    "\n",
    "import numpy as np\n",
    "import pandas as pd\n",
    "import matplotlib.pyplot as plt\n",
    "%matplotlib inline"
   ]
  },
  {
   "cell_type": "code",
   "execution_count": 12,
   "id": "38231663",
   "metadata": {},
   "outputs": [
    {
     "data": {
      "text/html": [
       "<div>\n",
       "<style scoped>\n",
       "    .dataframe tbody tr th:only-of-type {\n",
       "        vertical-align: middle;\n",
       "    }\n",
       "\n",
       "    .dataframe tbody tr th {\n",
       "        vertical-align: top;\n",
       "    }\n",
       "\n",
       "    .dataframe thead th {\n",
       "        text-align: right;\n",
       "    }\n",
       "</style>\n",
       "<table border=\"1\" class=\"dataframe\">\n",
       "  <thead>\n",
       "    <tr style=\"text-align: right;\">\n",
       "      <th></th>\n",
       "      <th>id</th>\n",
       "      <th>first_name</th>\n",
       "      <th>last_name</th>\n",
       "      <th>email</th>\n",
       "      <th>gender</th>\n",
       "      <th>ip_address</th>\n",
       "      <th>visit</th>\n",
       "    </tr>\n",
       "  </thead>\n",
       "  <tbody>\n",
       "    <tr>\n",
       "      <th>0</th>\n",
       "      <td>1</td>\n",
       "      <td>Sonny</td>\n",
       "      <td>Dahl</td>\n",
       "      <td>sdahl0@mysql.com</td>\n",
       "      <td>Male</td>\n",
       "      <td>135.36.96.183</td>\n",
       "      <td>1225.0</td>\n",
       "    </tr>\n",
       "    <tr>\n",
       "      <th>1</th>\n",
       "      <td>2</td>\n",
       "      <td>NaN</td>\n",
       "      <td>NaN</td>\n",
       "      <td>dhoovart1@hud.gov</td>\n",
       "      <td>NaN</td>\n",
       "      <td>237.165.194.143</td>\n",
       "      <td>919.0</td>\n",
       "    </tr>\n",
       "    <tr>\n",
       "      <th>2</th>\n",
       "      <td>3</td>\n",
       "      <td>Gar</td>\n",
       "      <td>Armal</td>\n",
       "      <td>garmal2@technorati.com</td>\n",
       "      <td>NaN</td>\n",
       "      <td>166.43.137.224</td>\n",
       "      <td>271.0</td>\n",
       "    </tr>\n",
       "    <tr>\n",
       "      <th>3</th>\n",
       "      <td>4</td>\n",
       "      <td>Chiarra</td>\n",
       "      <td>Nulty</td>\n",
       "      <td>cnulty3@newyorker.com</td>\n",
       "      <td>NaN</td>\n",
       "      <td>139.98.137.108</td>\n",
       "      <td>1002.0</td>\n",
       "    </tr>\n",
       "    <tr>\n",
       "      <th>4</th>\n",
       "      <td>5</td>\n",
       "      <td>NaN</td>\n",
       "      <td>NaN</td>\n",
       "      <td>sleaver4@elegantthemes.com</td>\n",
       "      <td>NaN</td>\n",
       "      <td>46.117.117.27</td>\n",
       "      <td>2434.0</td>\n",
       "    </tr>\n",
       "  </tbody>\n",
       "</table>\n",
       "</div>"
      ],
      "text/plain": [
       "   id first_name last_name                       email gender  \\\n",
       "0   1      Sonny      Dahl            sdahl0@mysql.com   Male   \n",
       "1   2        NaN       NaN           dhoovart1@hud.gov    NaN   \n",
       "2   3        Gar     Armal      garmal2@technorati.com    NaN   \n",
       "3   4    Chiarra     Nulty       cnulty3@newyorker.com    NaN   \n",
       "4   5        NaN       NaN  sleaver4@elegantthemes.com    NaN   \n",
       "\n",
       "        ip_address   visit  \n",
       "0    135.36.96.183  1225.0  \n",
       "1  237.165.194.143   919.0  \n",
       "2   166.43.137.224   271.0  \n",
       "3   139.98.137.108  1002.0  \n",
       "4    46.117.117.27  2434.0  "
      ]
     },
     "execution_count": 12,
     "metadata": {},
     "output_type": "execute_result"
    }
   ],
   "source": [
    "#read the file \n",
    "\n",
    "dataDF = pd.read_csv(\"visit_data.csv\") \n",
    "dataDF.head()"
   ]
  },
  {
   "cell_type": "code",
   "execution_count": 13,
   "id": "03d14a92",
   "metadata": {},
   "outputs": [
    {
     "name": "stdout",
     "output_type": "stream",
     "text": [
      "Does data has duplicate Email Ids : False\n"
     ]
    }
   ],
   "source": [
    "# Checking for duplicates by email as email id is the unique value in the data \n",
    "\n",
    "print(\"Does data has duplicate Email Ids : {}\".format(any(dataDF.email.duplicated())))"
   ]
  },
  {
   "cell_type": "code",
   "execution_count": 14,
   "id": "b44f2cff",
   "metadata": {},
   "outputs": [
    {
     "name": "stdout",
     "output_type": "stream",
     "text": [
      "IP Address contains NaN - False\n",
      "Visit contains NaN - True\n",
      "Email contains NaN - False\n",
      "Gender contains NaN - True\n"
     ]
    }
   ],
   "source": [
    "# Checking for Nan Values in dataframe, First name last name can contain null, checking for email, gender, ip address and visit \n",
    "\n",
    "print(\"IP Address contains NaN - {}\".format(dataDF.ip_address.isnull().values.any()))\n",
    "\n",
    "print(\"Visit contains NaN - {}\".format(dataDF.visit.isnull().values.any())) \n",
    "\n",
    "print(\"Email contains NaN - {}\".format(dataDF.ip_address.isnull().values.any())) \n",
    "\n",
    "print(\"Gender contains NaN - {}\".format(dataDF.visit.isnull().values.any()))"
   ]
  },
  {
   "cell_type": "code",
   "execution_count": 15,
   "id": "be01181d",
   "metadata": {},
   "outputs": [
    {
     "name": "stdout",
     "output_type": "stream",
     "text": [
      "Size before removing outliers : 1000\n",
      "Size after removing outliers : 974\n"
     ]
    }
   ],
   "source": [
    "# Getting rid of outliers and reporting the size difference \n",
    "\n",
    "sizeWithOutliers = len(dataDF) \n",
    "\n",
    "print(\"Size before removing outliers : \" + str(sizeWithOutliers))\n",
    "\n",
    "cleanDataDF = dataDF[dataDF.visit.notnull()] \n",
    "\n",
    "print(\"Size after removing outliers : \" + str(len(cleanDataDF)))"
   ]
  },
  {
   "cell_type": "code",
   "execution_count": 16,
   "id": "400e7905",
   "metadata": {},
   "outputs": [
    {
     "data": {
      "image/png": "[encoded data removed]",
      "text/plain": [
       "<Figure size 640x480 with 1 Axes>"
      ]
     },
     "metadata": {},
     "output_type": "display_data"
    }
   ],
   "source": [
    "# plotting box plot to check any other outliers \n",
    "\n",
    "plt.boxplot(cleanDataDF.visit, notch=True)\n",
    "plt.title(\"Visit Boxplot\")\n",
    "plt.xlabel(\"Visit\")\n",
    "plt.show()"
   ]
  },
  {
   "cell_type": "markdown",
   "id": "2567be31",
   "metadata": {},
   "source": [
    "The range of data is from 0- 3000 with major concentration between 750 to 2250. We can look to get rid of any values which are far away from the major concentration"
   ]
  },
  {
   "cell_type": "code",
   "execution_count": 17,
   "id": "185ee08e",
   "metadata": {},
   "outputs": [
    {
     "name": "stdout",
     "output_type": "stream",
     "text": [
      "Data size after removing Nan and outliers is : 864\n"
     ]
    }
   ],
   "source": [
    "cleanDataDF = cleanDataDF[(cleanDataDF['visit'] <= 2800) & (cleanDataDF['visit'] >= 200)] \n",
    "print(\"Data size after removing Nan and outliers is : \" + str(len(cleanDataDF)))"
   ]
  },
  {
   "cell_type": "markdown",
   "id": "5c115ff6",
   "metadata": {},
   "source": [
    "# Insert data into a SQL Lite database – create a table with the following data"
   ]
  },
  {
   "cell_type": "markdown",
   "id": "85fc0d98",
   "metadata": {},
   "source": [
    "a. Name, Address, City, State, Zip, Phone Number\n",
    "\n",
    "b. Add at least 10 rows of data and submit your code with a query generating your results."
   ]
  },
  {
   "cell_type": "code",
   "execution_count": 18,
   "id": "76918786",
   "metadata": {},
   "outputs": [],
   "source": [
    "# importing sqlite3 library \n",
    "\n",
    "import sqlite3"
   ]
  },
  {
   "cell_type": "code",
   "execution_count": 23,
   "id": "ae1c65d2",
   "metadata": {},
   "outputs": [],
   "source": [
    "# making a connection to sql lite db \n",
    "\n",
    "con = sqlite3.connect('mydata.sqlite') \n",
    "\n",
    "#defining DDL query \n",
    "\n",
    "query = \"CREATE TABLE UserDataTable (Name VARCHAR(50), Address VARCHAR(500),City VARCHAR(50), State VARCHAR(50),PhoneNumber VARCHAR(50),Zip INTEGER);\"\n",
    "\n",
    "#execute the query to create the table \n",
    "\n",
    "con.execute(query) \n",
    "con.commit()"
   ]
  },
  {
   "cell_type": "code",
   "execution_count": 24,
   "id": "9e909fbf",
   "metadata": {},
   "outputs": [],
   "source": [
    "# Add data into table \n",
    "\n",
    "data = [('James Butt', '6649 N Blue Gum St', 'New Orleans', 'LA', 70116, '504-621-8927'), ('Josephine Darakjy','4 B Blue Ridge Blvd','Brighton','MI',48116,'810-292-9388'), ('Art Venere','8 W Cerritos Ave␣ , #54','Bridgeport','NJ',8014,'856-636-8749'),  ('Lenna Paprocki','639 Main St','Anchorage','AK',99501,'907-385-4412'), ('Donette Foller','34 Center St','Hamilton','OH',45011,'513-570-1893'), ('Simona Morasca','3 Mcauley Dr','Ashland','OH',44805,'419-503-2484'), ('Mitsue Tollner','7 Eads St','Chicago','IL',60632,'773-573-6914'), ('Leota Dilliard','7 W Jackson Blvd','San␣ , Jose','CA',95111,'408-752-3500'), ('Sage Wieser','5 Boston Ave #88','Sioux ,  Falls','SD',57105,'605-414-2147'), ('Kris Marrier','228 Runamuck Pl , #2808','Baltimore','MD',21224,'410-655-8723')]\n",
    "\n",
    "stmt = \"INSERT INTO UserDataTable VALUES(?, ?, ?, ?, ?, ?)\" \n",
    "\n",
    "con.executemany(stmt, data) \n",
    "\n",
    "con.commit()"
   ]
  },
  {
   "cell_type": "code",
   "execution_count": 25,
   "id": "e20f98e2",
   "metadata": {},
   "outputs": [
    {
     "data": {
      "text/plain": [
       "[('James Butt',\n",
       "  '6649 N Blue Gum St',\n",
       "  'New Orleans',\n",
       "  'LA',\n",
       "  '70116',\n",
       "  '504-621-8927'),\n",
       " ('Josephine Darakjy',\n",
       "  '4 B Blue Ridge Blvd',\n",
       "  'Brighton',\n",
       "  'MI',\n",
       "  '48116',\n",
       "  '810-292-9388'),\n",
       " ('Art Venere',\n",
       "  '8 W Cerritos Ave␣ , #54',\n",
       "  'Bridgeport',\n",
       "  'NJ',\n",
       "  '8014',\n",
       "  '856-636-8749'),\n",
       " ('Lenna Paprocki', '639 Main St', 'Anchorage', 'AK', '99501', '907-385-4412'),\n",
       " ('Donette Foller', '34 Center St', 'Hamilton', 'OH', '45011', '513-570-1893'),\n",
       " ('Simona Morasca', '3 Mcauley Dr', 'Ashland', 'OH', '44805', '419-503-2484'),\n",
       " ('Mitsue Tollner', '7 Eads St', 'Chicago', 'IL', '60632', '773-573-6914'),\n",
       " ('Leota Dilliard',\n",
       "  '7 W Jackson Blvd',\n",
       "  'San␣ , Jose',\n",
       "  'CA',\n",
       "  '95111',\n",
       "  '408-752-3500'),\n",
       " ('Sage Wieser',\n",
       "  '5 Boston Ave #88',\n",
       "  'Sioux ,  Falls',\n",
       "  'SD',\n",
       "  '57105',\n",
       "  '605-414-2147'),\n",
       " ('Kris Marrier',\n",
       "  '228 Runamuck Pl , #2808',\n",
       "  'Baltimore',\n",
       "  'MD',\n",
       "  '21224',\n",
       "  '410-655-8723')]"
      ]
     },
     "execution_count": 25,
     "metadata": {},
     "output_type": "execute_result"
    }
   ],
   "source": [
    "# Try reading the data from Sql lite table to verify if the data got inserted \n",
    "\n",
    "cursor = con.execute('select * from UserDataTable') \n",
    "rows = cursor.fetchall() \n",
    "rows"
   ]
  },
  {
   "cell_type": "code",
   "execution_count": null,
   "id": "8056b6e4",
   "metadata": {},
   "outputs": [],
   "source": []
  }
 ],
 "metadata": {
  "kernelspec": {
   "display_name": "Python 3 (ipykernel)",
   "language": "python",
   "name": "python3"
  },
  "language_info": {
   "codemirror_mode": {
    "name": "ipython",
    "version": 3
   },
   "file_extension": ".py",
   "mimetype": "text/x-python",
   "name": "python",
   "nbconvert_exporter": "python",
   "pygments_lexer": "ipython3",
   "version": "3.9.13"
  }
 },
 "nbformat": 4,
 "nbformat_minor": 5
}
